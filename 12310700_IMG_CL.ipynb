{
 "cells": [
  {
   "cell_type": "code",
   "execution_count": 1,
   "id": "60d9afbf-2dc4-40c4-9de3-ff4e99ab4971",
   "metadata": {},
   "outputs": [
    {
     "name": "stdout",
     "output_type": "stream",
     "text": [
      "1\n"
     ]
    }
   ],
   "source": [
    "print(1)"
   ]
  },
  {
   "cell_type": "code",
   "execution_count": 2,
   "id": "5ca66842-ce0a-4490-aecc-590a656bc7ec",
   "metadata": {},
   "outputs": [
    {
     "name": "stdout",
     "output_type": "stream",
     "text": [
      "<class 'int'>\n",
      "<class 'float'>\n",
      "<class 'float'>\n"
     ]
    }
   ],
   "source": [
    "p = 7\n",
    "q = 6.1\n",
    "print(type(p))\n",
    "print(type(q))\n",
    "print(type(p/q))"
   ]
  },
  {
   "cell_type": "code",
   "execution_count": 3,
   "id": "4c6c6b62-203b-41e8-bc7c-24e58972d6b8",
   "metadata": {},
   "outputs": [
    {
     "data": {
      "text/plain": [
       "'\\nfghfghghf\\ngfhghfhf\\nfgghfhfg\\n'"
      ]
     },
     "execution_count": 3,
     "metadata": {},
     "output_type": "execute_result"
    }
   ],
   "source": [
    "'''\n",
    "fghfghghf\n",
    "gfhghfhf\n",
    "fgghfhfg\n",
    "'''"
   ]
  },
  {
   "cell_type": "code",
   "execution_count": 4,
   "id": "81c94eb0-0d53-4c5e-9a5f-26c2da7d839e",
   "metadata": {},
   "outputs": [
    {
     "name": "stdout",
     "output_type": "stream",
     "text": [
      "Hello, World!\n"
     ]
    }
   ],
   "source": [
    "\"\"\"\n",
    "This is a comment\n",
    "written in\n",
    "more than just one line\n",
    "\"\"\"\n",
    "print(\"Hello, World!\")\n"
   ]
  },
  {
   "cell_type": "code",
   "execution_count": 5,
   "id": "4689c361-901a-4bf1-9f67-7c70a6d74147",
   "metadata": {},
   "outputs": [
    {
     "name": "stdout",
     "output_type": "stream",
     "text": [
      "Mathematics\n"
     ]
    }
   ],
   "source": [
    "# Write Python code here\n",
    " \n",
    "\"\"\" Multi-line comment used\n",
    "print(\"Python Comments\") \"\"\"\n",
    " \n",
    "print(\"Mathematics\")"
   ]
  },
  {
   "cell_type": "code",
   "execution_count": 6,
   "id": "fbad7d74-8d52-4aa9-84f7-b42a806e900f",
   "metadata": {},
   "outputs": [],
   "source": [
    "str=\"hello World\""
   ]
  },
  {
   "cell_type": "code",
   "execution_count": 7,
   "id": "edfc5962-b7dd-4e46-af5c-a85494bad612",
   "metadata": {},
   "outputs": [
    {
     "name": "stdout",
     "output_type": "stream",
     "text": [
      "llo World\n"
     ]
    }
   ],
   "source": [
    "print(str[2:])"
   ]
  },
  {
   "cell_type": "code",
   "execution_count": 8,
   "id": "8e7ae28e-e092-417f-88bd-5eeae509cfe8",
   "metadata": {},
   "outputs": [
    {
     "name": "stdout",
     "output_type": "stream",
     "text": [
      "llo\n"
     ]
    }
   ],
   "source": [
    "print(str[2:5])\n"
   ]
  },
  {
   "cell_type": "raw",
   "id": "828dfb47-c01a-412c-886c-7375e4495a3a",
   "metadata": {},
   "source": [
    "print(str*2)"
   ]
  },
  {
   "cell_type": "code",
   "execution_count": 9,
   "id": "95391cfe-1f61-4016-9661-ef8d80cafe66",
   "metadata": {},
   "outputs": [
    {
     "name": "stdout",
     "output_type": "stream",
     "text": [
      "hello Worldhello World\n"
     ]
    }
   ],
   "source": [
    "print(str * 2)"
   ]
  },
  {
   "cell_type": "code",
   "execution_count": 10,
   "id": "74b50fe3-99a6-4654-afd1-df16e17cf7d0",
   "metadata": {},
   "outputs": [],
   "source": [
    "a,b,c=1,2,3"
   ]
  },
  {
   "cell_type": "code",
   "execution_count": 11,
   "id": "33221bce-b759-4889-bbfe-c17a2dd9e09c",
   "metadata": {},
   "outputs": [
    {
     "name": "stdout",
     "output_type": "stream",
     "text": [
      "1\n"
     ]
    }
   ],
   "source": [
    "print(a)"
   ]
  },
  {
   "cell_type": "code",
   "execution_count": null,
   "id": "83309d4e-e155-464e-87f1-adbbbc5eef82",
   "metadata": {},
   "outputs": [],
   "source": []
  }
 ],
 "metadata": {
  "interpreter": {
   "hash": "9bb8fc81397eebb4b3c3ac64de4afc0c58985419f1b6d2126d93e34f1cf4820a"
  },
  "kernelspec": {
   "display_name": "Python 3.10.4 64-bit",
   "language": "python",
   "name": "python3"
  },
  "language_info": {
   "codemirror_mode": {
    "name": "ipython",
    "version": 3
   },
   "file_extension": ".py",
   "mimetype": "text/x-python",
   "name": "python",
   "nbconvert_exporter": "python",
   "pygments_lexer": "ipython3",
   "version": "3.10.4"
  }
 },
 "nbformat": 4,
 "nbformat_minor": 5
}
